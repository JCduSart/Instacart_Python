{
 "cells": [
  {
   "cell_type": "markdown",
   "id": "e376f11c",
   "metadata": {},
   "source": [
    "#01. Importing libraries"
   ]
  },
  {
   "cell_type": "code",
   "execution_count": 1,
   "id": "ad91a893",
   "metadata": {},
   "outputs": [],
   "source": [
    "#impotrt libraries\n",
    "import pandas as pd\n",
    "import numpy as np\n",
    "import os"
   ]
  },
  {
   "cell_type": "markdown",
   "id": "c5b7cc37",
   "metadata": {},
   "source": [
    "# Working with Python data types"
   ]
  },
  {
   "cell_type": "code",
   "execution_count": 1,
   "id": "7c8acd4f",
   "metadata": {},
   "outputs": [
    {
     "name": "stdout",
     "output_type": "stream",
     "text": [
      "100\n"
     ]
    }
   ],
   "source": [
    "x = 50\n",
    "y = 50\n",
    "print(x+y)"
   ]
  },
  {
   "cell_type": "code",
   "execution_count": 2,
   "id": "d6eaecf5",
   "metadata": {},
   "outputs": [
    {
     "name": "stdout",
     "output_type": "stream",
     "text": [
      "100\n"
     ]
    }
   ],
   "source": [
    "z = x+y\n",
    "print(z)"
   ]
  },
  {
   "cell_type": "code",
   "execution_count": 3,
   "id": "de30b37b",
   "metadata": {},
   "outputs": [
    {
     "data": {
      "text/plain": [
       "100"
      ]
     },
     "execution_count": 3,
     "metadata": {},
     "output_type": "execute_result"
    }
   ],
   "source": [
    "x+50"
   ]
  },
  {
   "cell_type": "code",
   "execution_count": 7,
   "id": "3bc70a1a",
   "metadata": {},
   "outputs": [
    {
     "data": {
      "text/plain": [
       "0.5"
      ]
     },
     "execution_count": 7,
     "metadata": {},
     "output_type": "execute_result"
    }
   ],
   "source": [
    "a = 2.2\n",
    "b = 4.4\n",
    "a/b"
   ]
  },
  {
   "cell_type": "code",
   "execution_count": 8,
   "id": "71868aa4",
   "metadata": {},
   "outputs": [
    {
     "name": "stdout",
     "output_type": "stream",
     "text": [
      "çolorful\n"
     ]
    }
   ],
   "source": [
    "part1 = 'çolor'\n",
    "part2 = 'ful'\n",
    "print(part1+part2)"
   ]
  },
  {
   "cell_type": "code",
   "execution_count": 9,
   "id": "67fa4b70",
   "metadata": {},
   "outputs": [],
   "source": [
    "fullword = part1+part2"
   ]
  },
  {
   "cell_type": "code",
   "execution_count": 5,
   "id": "c9b17674",
   "metadata": {},
   "outputs": [],
   "source": [
    "word1 = 'Every '\n",
    "word2 = 'Day'\n",
    "finalword = word1+word2"
   ]
  },
  {
   "cell_type": "code",
   "execution_count": 6,
   "id": "b88f0711",
   "metadata": {},
   "outputs": [
    {
     "data": {
      "text/plain": [
       "'Every Day'"
      ]
     },
     "execution_count": 6,
     "metadata": {},
     "output_type": "execute_result"
    }
   ],
   "source": [
    "finalword"
   ]
  },
  {
   "cell_type": "code",
   "execution_count": 11,
   "id": "f9cb9c2c",
   "metadata": {},
   "outputs": [
    {
     "name": "stdout",
     "output_type": "stream",
     "text": [
      "Today is a great day,infact Every Day is çolorful\n"
     ]
    }
   ],
   "source": [
    "print('Today is a great day' + ',infact ' + finalword + ' is ' + fullword)"
   ]
  },
  {
   "cell_type": "code",
   "execution_count": 13,
   "id": "4eaeb883",
   "metadata": {},
   "outputs": [
    {
     "data": {
      "text/plain": [
       "'perfectperfectperfectperfectperfectperfectperfectperfectperfectperfectperfectperfectperfectperfectperfectperfectperfectperfectperfectperfectperfectperfectperfectperfectperfectperfectperfectperfectperfectperfectperfectperfectperfectperfectperfectperfectperfectperfectperfectperfectperfectperfectperfectperfectperfectperfectperfectperfectperfectperfectperfectperfectperfectperfectperfectperfectperfectperfectperfectperfectperfectperfectperfectperfectperfectperfectperfectperfectperfectperfectperfectperfectperfectperfectperfectperfectperfectperfectperfectperfectperfectperfectperfectperfectperfectperfectperfectperfectperfectperfectperfectperfectperfectperfectperfectperfectperfectperfectperfectperfect'"
      ]
     },
     "execution_count": 13,
     "metadata": {},
     "output_type": "execute_result"
    }
   ],
   "source": [
    "n = 'perfect'\n",
    "n * 100"
   ]
  },
  {
   "cell_type": "code",
   "execution_count": null,
   "id": "1f80583b",
   "metadata": {},
   "outputs": [],
   "source": []
  }
 ],
 "metadata": {
  "kernelspec": {
   "display_name": "Python 3 (ipykernel)",
   "language": "python",
   "name": "python3"
  },
  "language_info": {
   "codemirror_mode": {
    "name": "ipython",
    "version": 3
   },
   "file_extension": ".py",
   "mimetype": "text/x-python",
   "name": "python",
   "nbconvert_exporter": "python",
   "pygments_lexer": "ipython3",
   "version": "3.11.3"
  }
 },
 "nbformat": 4,
 "nbformat_minor": 5
}
